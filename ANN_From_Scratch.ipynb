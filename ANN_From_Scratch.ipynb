{
 "cells": [
  {
   "cell_type": "markdown",
   "metadata": {},
   "source": [
    "## Presentation\n",
    "This is a simple ANN for handwritten digits recognition. The objective of this notebook is to understand and put some knowledge about deep learning into practice. Therefore it is an implementation by hand.\n",
    "\n",
    "### References\n",
    "1. [Neural Networks by 3Blue1Brown](https://youtube.com/playlist?list=PLZHQObOWTQDNU6R1_67000Dx_ZCJB-3pi)\n",
    "2. [How to Create a Neural Network by Sebastian League](https://www.youtube.com/watch?v=w8yWXqWQYmU&t=1147s)\n",
    "3. [Building a neural network FROM SCRATCH by Samson Shang](https://www.youtube.com/watch?v=hfMk-kjRv4c)\n",
    "4. [Human Compatible: Artificial Intelligence and the Problem of Control by Stuart Russel](https://www.amazon.com.br/Intelig%C3%AAncia-artificial-nosso-favor-tecnologia/dp/6559213080)\n",
    "5. [Artificial Intelligence, a Modern Approach by Peter Norvig and Stuart Russel](https://drive.google.com/file/d/1vr9GXcYyN5jCwOZjMDfcbu3XESeBl3Cc/view)\n",
    "\n",
    "### Author: Wagner Martins"
   ]
  },
  {
   "cell_type": "code",
   "execution_count": 135,
   "metadata": {
    "id": "NLOOYUxpd0Cl"
   },
   "outputs": [],
   "source": [
    "import numpy as np\n",
    "import pandas as pd\n",
    "from matplotlib import pyplot as plt\n",
    "import cv2"
   ]
  },
  {
   "cell_type": "code",
   "execution_count": 136,
   "metadata": {
    "id": "6lGeZG7RomTu"
   },
   "outputs": [],
   "source": [
    "df = pd.read_csv(\"./mnist_test.csv\")"
   ]
  },
  {
   "cell_type": "markdown",
   "metadata": {},
   "source": [
    "##### First sample of an image from mnist dataset:"
   ]
  },
  {
   "cell_type": "code",
   "execution_count": 137,
   "metadata": {},
   "outputs": [
    {
     "data": {
      "text/plain": [
       "<matplotlib.image.AxesImage at 0x7fb7640c2860>"
      ]
     },
     "execution_count": 137,
     "metadata": {},
     "output_type": "execute_result"
    },
    {
     "data": {
      "image/png": "[encoded data removed]",
      "text/plain": [
       "<Figure size 640x480 with 1 Axes>"
      ]
     },
     "metadata": {},
     "output_type": "display_data"
    }
   ],
   "source": [
    "img_test = df.loc[0][1:].to_numpy()\n",
    "img_test = img_test.reshape(28,28)\n",
    "plt.imshow(img_test)"
   ]
  },
  {
   "cell_type": "markdown",
   "metadata": {},
   "source": [
    "##### Selecting the first 2000 images for training"
   ]
  },
  {
   "cell_type": "code",
   "execution_count": 138,
   "metadata": {
    "id": "5VBR8y3YqF20"
   },
   "outputs": [],
   "source": [
    "data = np.array(df)\n",
    "m, n = data.shape\n",
    "train = data[0:2000]"
   ]
  },
  {
   "cell_type": "markdown",
   "metadata": {},
   "source": [
    "##### Presenting a sample image"
   ]
  },
  {
   "cell_type": "code",
   "execution_count": 139,
   "metadata": {
    "colab": {
     "base_uri": "https://localhost:8080/",
     "height": 430
    },
    "id": "FZnEvi1yzpRF",
    "outputId": "1e07bf9c-daf3-4e9c-c8e2-345e93ddcc38"
   },
   "outputs": [
    {
     "data": {
      "text/plain": [
       "<matplotlib.image.AxesImage at 0x7fb7649c5060>"
      ]
     },
     "execution_count": 139,
     "metadata": {},
     "output_type": "execute_result"
    },
    {
     "data": {
      "image/png": "[encoded data removed]",
      "text/plain": [
       "<Figure size 640x480 with 1 Axes>"
      ]
     },
     "metadata": {},
     "output_type": "display_data"
    }
   ],
   "source": [
    "image = train[0]\n",
    "image = np.delete(image, 0)\n",
    "image = image.reshape(28,28)\n",
    "plt.imshow(image, cmap='gray')"
   ]
  },
  {
   "cell_type": "markdown",
   "metadata": {},
   "source": [
    "##### Preparing data and normalizing inputs"
   ]
  },
  {
   "cell_type": "code",
   "execution_count": 140,
   "metadata": {
    "id": "dX2B8qdJz_cH"
   },
   "outputs": [
    {
     "data": {
      "text/plain": [
       "<matplotlib.image.AxesImage at 0x7fb764119ed0>"
      ]
     },
     "execution_count": 140,
     "metadata": {},
     "output_type": "execute_result"
    },
    {
     "data": {
      "image/png": "[encoded data removed]",
      "text/plain": [
       "<Figure size 640x480 with 1 Axes>"
      ]
     },
     "metadata": {},
     "output_type": "display_data"
    }
   ],
   "source": [
    "labels = train[:, 0]\n",
    "pixels = train[:, 1:n]\n",
    "pixels = pixels / 255.0\n",
    "plt.imshow(pixels[2].reshape(28,28), cmap='gray')"
   ]
  },
  {
   "cell_type": "markdown",
   "metadata": {},
   "source": [
    "##### Rage against the machine"
   ]
  },
  {
   "cell_type": "code",
   "execution_count": 141,
   "metadata": {
    "id": "ZgLwqSIs3PF1"
   },
   "outputs": [],
   "source": [
    "def ReLU(x):\n",
    "  return np.maximum(0,x)\n",
    "\n",
    "def ddxReLU(x):\n",
    "  return x > 0\n",
    "\n",
    "def softmax(X):\n",
    "  return np.exp(X) / sum(np.exp(X))\n",
    "\n",
    "def onehot(labels):\n",
    "  onh = np.zeros((labels.size, 10))\n",
    "  onh[np.arange(labels.size), labels] = 1\n",
    "  return onh.T\n",
    "\n",
    "def init_params():\n",
    "  W1 = np.random.random((10, 784)) - 0.5\n",
    "  b1 = np.random.random((10,1)) - 0.5\n",
    "  W2 = np.random.random((10, 10)) - 0.5\n",
    "  b2 = np.random.random((10,1)) - 0.5\n",
    "  return W1, b1, W2, b2\n",
    "\n",
    "# some transposing is needed, so that the matrix multiplication matches the\n",
    "# correct result for each neuron and 784 pixels\n",
    "def forward_prop(W1, b1, W2, b2, pixels):\n",
    "  Z1 = W1.dot(pixels)+b1\n",
    "  A1 = ReLU(Z1)\n",
    "  Z2 = W2.dot(A1)+b2\n",
    "  A2 = softmax(Z2)\n",
    "  return Z1, A1, Z2, A2\n",
    "\n",
    "def back_prop(Z1, A1, Z2, A2, W2, labels, pixels):\n",
    "  onh = onehot(labels)\n",
    "  dz2 = 2*(A2 - onh)\n",
    "  dw2 = 1/labels.size * dz2.dot(A1.T)\n",
    "  db2 = 1/labels.size * np.sum(dz2)\n",
    "  dz1 = W2.T.dot(dz2) * ddxReLU(Z1)\n",
    "  dw1 = 1/labels.size * dz1.dot(pixels.T)\n",
    "  db1 = 1/labels.size * np.sum(dz1)\n",
    "\n",
    "  return dw1, db1, dw2, db2\n",
    "\n",
    "def update_params(W1, b1, W2, b2, dW1, db1, dW2, db2, alpha):\n",
    "  W1 = W1 - alpha * dW1\n",
    "  b1 = b1 - alpha * db1\n",
    "  W2 = W2 - alpha * dW2\n",
    "  b2 = b2 - alpha * db2\n",
    "  return W1, b1, W2, b2\n",
    "\n",
    "def prediction(A2):\n",
    "  return np.argmax(A2, 0)\n",
    "\n",
    "def acc(predictions, label):\n",
    "  return np.sum(predictions == label) / label.size\n",
    "\n",
    "def gradient_descent(Lb, Px, it, alpha):\n",
    "  W1, b1, W2, b2 = init_params()\n",
    "  for i in range(it):\n",
    "    Z1, A1, Z2, A2 = forward_prop(W1, b1, W2, b2, Px)\n",
    "    dw1, db1, dw2, db2 = back_prop(Z1, A1, Z2, A2, W2, Lb, Px)\n",
    "    W1, b1, W2, b2 = update_params(W1, b1, W2, b2, dw1, db1, dw2, db2, alpha)\n",
    "    if i%10 == 0:\n",
    "      print(\"Accuracy: \", acc(prediction(A2), Lb))\n",
    "  return W1, b1, W2, b2"
   ]
  },
  {
   "cell_type": "code",
   "execution_count": 142,
   "metadata": {
    "colab": {
     "base_uri": "https://localhost:8080/"
    },
    "id": "-YRvJbo1dPil",
    "outputId": "9894f38e-b080-42fe-a4f2-63361acae191"
   },
   "outputs": [
    {
     "name": "stdout",
     "output_type": "stream",
     "text": [
      "Accuracy:  0.091\n",
      "Accuracy:  0.2475\n",
      "Accuracy:  0.3705\n",
      "Accuracy:  0.4865\n",
      "Accuracy:  0.5575\n",
      "Accuracy:  0.6055\n",
      "Accuracy:  0.651\n",
      "Accuracy:  0.6815\n",
      "Accuracy:  0.715\n",
      "Accuracy:  0.7335\n",
      "Accuracy:  0.7605\n",
      "Accuracy:  0.777\n",
      "Accuracy:  0.7945\n",
      "Accuracy:  0.8065\n",
      "Accuracy:  0.8105\n",
      "Accuracy:  0.821\n",
      "Accuracy:  0.8285\n",
      "Accuracy:  0.8425\n",
      "Accuracy:  0.85\n",
      "Accuracy:  0.8565\n",
      "Accuracy:  0.861\n",
      "Accuracy:  0.865\n",
      "Accuracy:  0.8685\n",
      "Accuracy:  0.871\n",
      "Accuracy:  0.8755\n",
      "Accuracy:  0.88\n",
      "Accuracy:  0.8825\n",
      "Accuracy:  0.8865\n",
      "Accuracy:  0.8885\n",
      "Accuracy:  0.8905\n",
      "Accuracy:  0.892\n",
      "Accuracy:  0.8955\n",
      "Accuracy:  0.9015\n",
      "Accuracy:  0.9025\n",
      "Accuracy:  0.9055\n",
      "Accuracy:  0.9075\n",
      "Accuracy:  0.911\n",
      "Accuracy:  0.9145\n",
      "Accuracy:  0.917\n",
      "Accuracy:  0.919\n",
      "Accuracy:  0.9205\n",
      "Accuracy:  0.9215\n",
      "Accuracy:  0.9235\n",
      "Accuracy:  0.926\n",
      "Accuracy:  0.9275\n",
      "Accuracy:  0.9305\n",
      "Accuracy:  0.931\n",
      "Accuracy:  0.9335\n",
      "Accuracy:  0.9345\n",
      "Accuracy:  0.935\n"
     ]
    }
   ],
   "source": [
    "W1, b1, W2, b2 = gradient_descent(labels, pixels.T, 500, 0.1)"
   ]
  },
  {
   "cell_type": "markdown",
   "metadata": {},
   "source": [
    "##### Useful  functions"
   ]
  },
  {
   "cell_type": "code",
   "execution_count": 143,
   "metadata": {
    "id": "JtkQV1EunpdM"
   },
   "outputs": [],
   "source": [
    "# notice it needs to be in np.array([]) followed by brackets in order to make\n",
    "# the array of its correspondent matrix form\n",
    "# custom_test = data[1001]\n",
    "# custom_img = np.array([custom_test[1:n]])\n",
    "\n",
    "def make_prediction(W1, b1, W2, b2, custom_img):\n",
    "  # make_prediction() automatically transposes and divides it by 255, so that\n",
    "  # any raw image in 784 array format is allowed\n",
    "  custom_img = custom_img/255.0\n",
    "  _, _, _, A2 = forward_prop(W1, b1, W2, b2, custom_img.T)\n",
    "  return prediction(A2)[0]\n",
    "\n",
    "def print_image(img):\n",
    "  # prints any given 784 array image\n",
    "  img = img.reshape(28,28)\n",
    "  plt.imshow(img, cmap='gray')\n",
    "  plt.show()\n",
    "\n",
    "def get_training_img(index):\n",
    "  return np.array([data[index][1:n]])"
   ]
  },
  {
   "cell_type": "markdown",
   "metadata": {},
   "source": [
    "##### Guessing images"
   ]
  },
  {
   "cell_type": "code",
   "execution_count": 152,
   "metadata": {
    "colab": {
     "base_uri": "https://localhost:8080/",
     "height": 447
    },
    "id": "4fGklSs6xzEc",
    "outputId": "935a703c-e9ee-4496-b738-7e33fc892bc4"
   },
   "outputs": [
    {
     "data": {
      "image/png": "[encoded data removed]",
      "text/plain": [
       "<Figure size 640x480 with 1 Axes>"
      ]
     },
     "metadata": {},
     "output_type": "display_data"
    },
    {
     "name": "stdout",
     "output_type": "stream",
     "text": [
      "Guess: 9\n"
     ]
    }
   ],
   "source": [
    "ind = 8001\n",
    "print_image(get_training_img(ind))\n",
    "print(\"Guess:\", make_prediction(W1,b1,W2,b2, get_training_img(ind)))"
   ]
  },
  {
   "cell_type": "markdown",
   "metadata": {},
   "source": [
    "##### Creating an own file"
   ]
  },
  {
   "cell_type": "code",
   "execution_count": 145,
   "metadata": {},
   "outputs": [
    {
     "name": "stdout",
     "output_type": "stream",
     "text": [
      "Guess: 7\n"
     ]
    }
   ],
   "source": [
    "img = cv2.imread('./Untitled.jpeg', cv2.IMREAD_GRAYSCALE)\n",
    "img = img.reshape(1,784)\n",
    "print(\"Guess:\", make_prediction(W1, b1, W2, b2, img))"
   ]
  }
 ],
 "metadata": {
  "colab": {
   "provenance": []
  },
  "kernelspec": {
   "display_name": "Python 3 (ipykernel)",
   "language": "python",
   "name": "python3"
  },
  "language_info": {
   "codemirror_mode": {
    "name": "ipython",
    "version": 3
   },
   "file_extension": ".py",
   "mimetype": "text/x-python",
   "name": "python",
   "nbconvert_exporter": "python",
   "pygments_lexer": "ipython3",
   "version": "3.10.12"
  }
 },
 "nbformat": 4,
 "nbformat_minor": 4
}
